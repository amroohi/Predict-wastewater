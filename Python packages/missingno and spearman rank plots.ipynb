{
 "cells": [
  {
   "cell_type": "code",
   "execution_count": null,
   "metadata": {},
   "outputs": [],
   "source": [
    "import pandas as pd\n",
    "import missingno as msno\n",
    "import matplotlib.axis\n",
    "# import altair as alt\n",
    "import numpy as np\n",
    "%matplotlib inline\n",
    "\n",
    "# import pandas_profiling"
   ]
  },
  {
   "cell_type": "code",
   "execution_count": null,
   "metadata": {},
   "outputs": [],
   "source": [
    "data = pd.read_excel(\"C:/Users/sh/Desktop/term 3 ut/Thesis and Paper/R/New folder/TWWTP_raw_data.xlsx\")"
   ]
  },
  {
   "cell_type": "code",
   "execution_count": null,
   "metadata": {},
   "outputs": [],
   "source": [
    "# pandas_profiling.ProfileReport(data)"
   ]
  },
  {
   "cell_type": "code",
   "execution_count": null,
   "metadata": {
    "scrolled": false
   },
   "outputs": [],
   "source": [
    "mat = msno.matrix(data,\n",
    "                  sparkline=False,\n",
    "                  fontsize=20)\n"
   ]
  },
  {
   "cell_type": "code",
   "execution_count": null,
   "metadata": {},
   "outputs": [],
   "source": [
    "import matplotlib.pyplot as plt\n",
    "import seaborn as sns\n",
    "# # # \n",
    "# df = pd.read_table('/Users/apple/Downloads/housing.data', header=None, sep='\\s+')\n",
    "# df.columns = ['CRIM', 'ZN', 'INDUS', 'CHAS', 'NOX', 'RM', 'AGE', 'DIS', 'RAD', 'TAX', 'PTRATIO', 'B', 'LSTAT', 'MEDV'] \n",
    "# # Correlation between different variables # \n",
    "corr = data.corr() # # Set up the matplotlib plot configuration # \n",
    "f, ax = plt.subplots(figsize=(9, 7)) # # Generate a mask for upper traingle # \n",
    "mask = np.triu(np.ones_like(corr, dtype=bool)) # # Configure a custom diverging colormap # \n",
    "cmap = sns.diverging_palette(230, 20, as_cmap=True) # # Draw the heatmap # \n",
    "sns.heatmap(corr, annot=False, mask = mask, cmap=cmap, vmax=1, vmin=-1)"
   ]
  },
  {
   "cell_type": "code",
   "execution_count": null,
   "metadata": {},
   "outputs": [],
   "source": [
    "data = pd.read_excel(\"C:/Users/sh/Desktop/term 3 ut/Thesis and Paper/R/New folder/MWWTP_raw_data.xlsx\")\n",
    "mat = msno.matrix(data,\n",
    "                  sparkline=False,\n",
    "                  fontsize=40)\n"
   ]
  },
  {
   "cell_type": "code",
   "execution_count": null,
   "metadata": {},
   "outputs": [],
   "source": [
    "import matplotlib.pyplot as plt\n",
    "import seaborn as sns\n",
    "# # # \n",
    "# df = pd.read_table('/Users/apple/Downloads/housing.data', header=None, sep='\\s+')\n",
    "# df.columns = ['CRIM', 'ZN', 'INDUS', 'CHAS', 'NOX', 'RM', 'AGE', 'DIS', 'RAD', 'TAX', 'PTRATIO', 'B', 'LSTAT', 'MEDV'] \n",
    "# # Correlation between different variables # \n",
    "corr = data.corr() # # Set up the matplotlib plot configuration # \n",
    "f, ax = plt.subplots(figsize=(4.5, 3.5)) # # Generate a mask for upper traingle # \n",
    "mask = np.triu(np.ones_like(corr, dtype=bool)) # # Configure a custom diverging colormap # \n",
    "cmap = sns.diverging_palette(230, 20, as_cmap=True) # # Draw the heatmap # \n",
    "sns.heatmap(corr, annot=False, mask = mask, cmap=cmap, vmax=1, vmin=-1)"
   ]
  },
  {
   "cell_type": "code",
   "execution_count": null,
   "metadata": {},
   "outputs": [],
   "source": [
    "data = pd.read_excel(\"C:/Users/sh/Desktop/term 3 ut/Thesis and Paper/R/New folder/BWWTP_raw_data.xlsx\")\n",
    "mat = msno.matrix(data,\n",
    "                  sparkline=False,\n",
    "                  fontsize=50)"
   ]
  },
  {
   "cell_type": "code",
   "execution_count": null,
   "metadata": {},
   "outputs": [],
   "source": []
  },
  {
   "cell_type": "code",
   "execution_count": null,
   "metadata": {},
   "outputs": [],
   "source": [
    "# data.profile_report(\n",
    "#     missing_diagrams={\n",
    "#         \"heatmap\": False,\n",
    "#         \"dendrogram\": False,\n",
    "#     }\n",
    "# )"
   ]
  },
  {
   "cell_type": "code",
   "execution_count": null,
   "metadata": {},
   "outputs": [],
   "source": [
    "import matplotlib.pyplot as plt\n",
    "import seaborn as sns\n",
    "# # # \n",
    "# df = pd.read_table('/Users/apple/Downloads/housing.data', header=None, sep='\\s+')\n",
    "# df.columns = ['CRIM', 'ZN', 'INDUS', 'CHAS', 'NOX', 'RM', 'AGE', 'DIS', 'RAD', 'TAX', 'PTRATIO', 'B', 'LSTAT', 'MEDV'] \n",
    "# # Correlation between different variables # \n",
    "corr = data.corr() # # Set up the matplotlib plot configuration # \n",
    "f, ax = plt.subplots(figsize=(3, 2.3)) # # Generate a mask for upper traingle # \n",
    "mask = np.triu(np.ones_like(corr, dtype=bool)) # # Configure a custom diverging colormap # \n",
    "cmap = sns.diverging_palette(230, 20, as_cmap=True) # # Draw the heatmap # \n",
    "sns.heatmap(corr, annot=False, mask = mask, cmap=cmap, vmax=1, vmin=-1)\n"
   ]
  },
  {
   "cell_type": "code",
   "execution_count": null,
   "metadata": {},
   "outputs": [],
   "source": []
  }
 ],
 "metadata": {
  "kernelspec": {
   "display_name": "Python 3 (ipykernel)",
   "language": "python",
   "name": "python3"
  },
  "language_info": {
   "codemirror_mode": {
    "name": "ipython",
    "version": 3
   },
   "file_extension": ".py",
   "mimetype": "text/x-python",
   "name": "python",
   "nbconvert_exporter": "python",
   "pygments_lexer": "ipython3",
   "version": "3.8.5"
  }
 },
 "nbformat": 4,
 "nbformat_minor": 5
}
