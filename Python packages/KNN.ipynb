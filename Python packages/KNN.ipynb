{
 "cells": [
  {
   "cell_type": "code",
   "execution_count": 132,
   "metadata": {},
   "outputs": [],
   "source": [
    "import pandas as pd\n",
    "import numpy as np\n",
    "import matplotlib as plt\n",
    "from sklearn.metrics import r2_score\n",
    "\n",
    "df = pd.read_excel(\"C:/Users/sh/Desktop/term 3 ut/Thesis and Paper/R/New folder/WWTP_data.xlsx\")\n",
    "\n",
    "for var in df:\n",
    "    df[var] = df[var].replace(np.nan, df[var].mean())\n",
    "\n",
    "Y = df[['Q_eff']]\n",
    "X = df[['Q_in','Temp_in','pH_in', 'COD_in', 'BOD_in', 'TSS_in', 'NH4_in', 'TN_in', 'PO4_in', 'TP_in', \n",
    "        'MLSS_AT', 'DO_AT' ,'MLSS_re' ,'Temp_air']]"
   ]
  },
  {
   "cell_type": "code",
   "execution_count": 133,
   "metadata": {},
   "outputs": [],
   "source": [
    "#from sklearn.preprocessing import StandardScaler\n",
    "#std_scaler = StandardScaler()\n",
    "#temp_X = X.iloc[:,:]\n",
    "#X_values = temp_X.values\n",
    "#std_X = std_scaler.fit_transform(temp_X)\n",
    "#X_normalize = pd.DataFrame(std_X)\n",
    "#\n",
    "#\n",
    "#temp_Y = Y.iloc[:,:]\n",
    "#Y_values = temp_Y.values\n",
    "#std_Y = std_scaler.fit_transform(temp_Y)\n",
    "#Y_normalize = pd.DataFrame(std_Y)\n",
    "\n",
    "\n",
    "\n",
    "\n",
    "\n",
    "from sklearn import preprocessing\n",
    "\n",
    "min_max_scaler = preprocessing.MinMaxScaler()\n",
    "X_normalize = min_max_scaler.fit_transform(X)\n",
    "Y_normalize = min_max_scaler.fit_transform(Y)\n",
    "\n",
    "#X_normalize = X\n",
    "#Y_normalize = Y\n",
    "\n",
    "#X_normalize = pd.DataFrame(X_normalize, columns=['Q_in','Temp_in','pH_in', 'COD_in', 'BOD_in', 'TSS_in', 'NH4_in', \n",
    "#                                                 'TN_in', 'PO4_in', 'TP_in', 'MLSS_AT', 'DO_AT' ,'MLSS_re' ,'Temp_air'])\n",
    "\n",
    "\n",
    "#print(X_normalize)"
   ]
  },
  {
   "cell_type": "code",
   "execution_count": 134,
   "metadata": {},
   "outputs": [],
   "source": [
    "split = 550\n",
    "\n",
    "x_train = X_normalize[:split]\n",
    "x_test = X_normalize[split:]\n",
    "\n",
    "y_train = Y_normalize[:split]\n",
    "y_test = Y_normalize[split:]"
   ]
  },
  {
   "cell_type": "code",
   "execution_count": 135,
   "metadata": {},
   "outputs": [
    {
     "data": {
      "text/plain": [
       "KNeighborsRegressor(n_neighbors=3)"
      ]
     },
     "execution_count": 135,
     "metadata": {},
     "output_type": "execute_result"
    }
   ],
   "source": [
    "from sklearn.neighbors import KNeighborsRegressor\n",
    "knn = KNeighborsRegressor(n_neighbors = 3, weights='uniform', leaf_size=30, p=2, metric='minkowski')\n",
    "# 15-20 \n",
    "# greedy search\n",
    "# leaf_size=30\n",
    "knn.fit(x_train, y_train)"
   ]
  },
  {
   "cell_type": "code",
   "execution_count": 136,
   "metadata": {},
   "outputs": [
    {
     "name": "stdout",
     "output_type": "stream",
     "text": [
      "r2 test = 87.51885595424238\n"
     ]
    }
   ],
   "source": [
    "y_pred = knn.predict(x_test)\n",
    "\n",
    "r2_test = r2_score(y_pred, y_test)*100\n",
    "print('r2 test =', r2_test)\n"
   ]
  },
  {
   "cell_type": "code",
   "execution_count": null,
   "metadata": {},
   "outputs": [],
   "source": []
  },
  {
   "cell_type": "code",
   "execution_count": 137,
   "metadata": {},
   "outputs": [
    {
     "ename": "AttributeError",
     "evalue": "module 'matplotlib' has no attribute 'subplots'",
     "output_type": "error",
     "traceback": [
      "\u001b[1;31m---------------------------------------------------------------------------\u001b[0m",
      "\u001b[1;31mAttributeError\u001b[0m                            Traceback (most recent call last)",
      "\u001b[1;32m<ipython-input-137-f0ef5869fda7>\u001b[0m in \u001b[0;36m<module>\u001b[1;34m\u001b[0m\n\u001b[0;32m      1\u001b[0m \u001b[1;31m# Plot\u001b[0m\u001b[1;33m\u001b[0m\u001b[1;33m\u001b[0m\u001b[1;33m\u001b[0m\u001b[0m\n\u001b[1;32m----> 2\u001b[1;33m \u001b[0mfig\u001b[0m\u001b[1;33m,\u001b[0m \u001b[0max\u001b[0m \u001b[1;33m=\u001b[0m \u001b[0mplt\u001b[0m\u001b[1;33m.\u001b[0m\u001b[0msubplots\u001b[0m\u001b[1;33m(\u001b[0m\u001b[0mfigsize\u001b[0m\u001b[1;33m=\u001b[0m\u001b[1;33m(\u001b[0m\u001b[1;36m17\u001b[0m\u001b[1;33m,\u001b[0m \u001b[1;36m5\u001b[0m\u001b[1;33m)\u001b[0m\u001b[1;33m)\u001b[0m\u001b[1;33m\u001b[0m\u001b[1;33m\u001b[0m\u001b[0m\n\u001b[0m\u001b[0;32m      3\u001b[0m \u001b[1;33m\u001b[0m\u001b[0m\n\u001b[0;32m      4\u001b[0m \u001b[0mprint\u001b[0m\u001b[1;33m(\u001b[0m\u001b[0mtype\u001b[0m\u001b[1;33m(\u001b[0m\u001b[0my_test\u001b[0m\u001b[1;33m)\u001b[0m\u001b[1;33m)\u001b[0m\u001b[1;33m\u001b[0m\u001b[1;33m\u001b[0m\u001b[0m\n\u001b[0;32m      5\u001b[0m \u001b[1;33m\u001b[0m\u001b[0m\n",
      "\u001b[1;31mAttributeError\u001b[0m: module 'matplotlib' has no attribute 'subplots'"
     ]
    }
   ],
   "source": [
    "# Plot\n",
    "fig, ax = plt.subplots(figsize=(17, 5))\n",
    "\n",
    "print(type(y_test))\n",
    "\n",
    "y_test = pd.DataFrame(y_test, columns=['actual'])\n",
    "y_test.reset_index(drop=True, inplace=True)\n",
    "y_pred = pd.DataFrame(y_pred, columns=['predict'])\n",
    "\n",
    "print(y_pred.head())\n",
    "print(y_test.head())\n",
    "\n",
    "y_test.plot(ax=ax, label='actual')\n",
    "y_pred.plot(ax=ax, label='predict')\n",
    "#predictions.plot(ax=ax, label='predictions')\n",
    "\n",
    "ax.legend()"
   ]
  },
  {
   "cell_type": "code",
   "execution_count": 138,
   "metadata": {},
   "outputs": [],
   "source": [
    "#print(y_test)"
   ]
  },
  {
   "cell_type": "code",
   "execution_count": 139,
   "metadata": {},
   "outputs": [
    {
     "name": "stdout",
     "output_type": "stream",
     "text": [
      "r2 train = 99.36478576660092\n"
     ]
    }
   ],
   "source": [
    "y_pred = knn.predict(x_train)\n",
    "\n",
    "r2_train = r2_score(y_pred, y_train)*100\n",
    "print('r2 train =', r2_train)"
   ]
  },
  {
   "cell_type": "code",
   "execution_count": 35,
   "metadata": {},
   "outputs": [
    {
     "name": "stdout",
     "output_type": "stream",
     "text": [
      "[[0.51683444]\n",
      " [0.55675289]\n",
      " [0.61258209]\n",
      " [0.60416487]\n",
      " [0.61626851]\n",
      " [0.629873  ]\n",
      " [0.61769289]\n",
      " [0.65399185]\n",
      " [0.69797552]\n",
      " [0.70086968]]\n"
     ]
    }
   ],
   "source": [
    "print(y_pred[0:10])"
   ]
  },
  {
   "cell_type": "code",
   "execution_count": 36,
   "metadata": {},
   "outputs": [
    {
     "name": "stdout",
     "output_type": "stream",
     "text": [
      "[[0.38235252]\n",
      " [0.52624107]\n",
      " [0.5985295 ]\n",
      " [0.52965026]\n",
      " [0.59995985]\n",
      " [0.6256632 ]\n",
      " [0.61963707]\n",
      " [0.65535648]\n",
      " [0.70250437]\n",
      " [0.7447482 ]]\n"
     ]
    }
   ],
   "source": [
    "print(y_train[0:10])"
   ]
  },
  {
   "cell_type": "code",
   "execution_count": 1122,
   "metadata": {},
   "outputs": [],
   "source": [
    "from sklearn.metrics import confusion_matrix, classification_report\n",
    "\n",
    "#print(confusion_matrix(y_pred, y_train))"
   ]
  },
  {
   "cell_type": "code",
   "execution_count": null,
   "metadata": {},
   "outputs": [],
   "source": []
  },
  {
   "cell_type": "code",
   "execution_count": null,
   "metadata": {},
   "outputs": [],
   "source": []
  }
 ],
 "metadata": {
  "kernelspec": {
   "display_name": "Python 3",
   "language": "python",
   "name": "python3"
  },
  "language_info": {
   "codemirror_mode": {
    "name": "ipython",
    "version": 3
   },
   "file_extension": ".py",
   "mimetype": "text/x-python",
   "name": "python",
   "nbconvert_exporter": "python",
   "pygments_lexer": "ipython3",
   "version": "3.8.5"
  }
 },
 "nbformat": 4,
 "nbformat_minor": 4
}
